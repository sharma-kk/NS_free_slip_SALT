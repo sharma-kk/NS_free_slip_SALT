{
 "cells": [
  {
   "cell_type": "code",
   "execution_count": 1,
   "metadata": {},
   "outputs": [],
   "source": [
    "import numpy as np\n",
    "import matplotlib.pyplot as plt"
   ]
  },
  {
   "cell_type": "code",
   "execution_count": 2,
   "metadata": {},
   "outputs": [],
   "source": [
    "data1 = np.load('./data_for_xi_calculation/dX_data_t=50_to_t=100_grid_32_c_1by32.npz')\n",
    "data2 = np.load('./data_for_xi_calculation/dX_data_t=100_to_t=110_grid_32_c_1by32.npz')"
   ]
  },
  {
   "cell_type": "code",
   "execution_count": 3,
   "metadata": {},
   "outputs": [],
   "source": [
    "dX1 = np.concatenate((data1['dX_x'], data2['dX_x']), axis=0)\n",
    "dX2 = np.concatenate((data1['dX_y'], data2['dX_y']), axis=0)"
   ]
  },
  {
   "cell_type": "code",
   "execution_count": 4,
   "metadata": {},
   "outputs": [
    {
     "data": {
      "text/plain": [
       "((300, 12417), (300, 12417))"
      ]
     },
     "execution_count": 4,
     "metadata": {},
     "output_type": "execute_result"
    }
   ],
   "source": [
    "dX1.shape, dX2.shape"
   ]
  },
  {
   "cell_type": "code",
   "execution_count": 5,
   "metadata": {},
   "outputs": [
    {
     "data": {
      "text/plain": [
       "(300, 24834)"
      ]
     },
     "execution_count": 5,
     "metadata": {},
     "output_type": "execute_result"
    }
   ],
   "source": [
    "dX = np.concatenate((dX1, dX2), axis=1)\n",
    "dX.shape"
   ]
  },
  {
   "cell_type": "code",
   "execution_count": 6,
   "metadata": {},
   "outputs": [
    {
     "name": "stdout",
     "output_type": "stream",
     "text": [
      "300\n"
     ]
    }
   ],
   "source": [
    "m = dX.shape[0]\n",
    "print(m)"
   ]
  },
  {
   "cell_type": "code",
   "execution_count": 7,
   "metadata": {},
   "outputs": [],
   "source": [
    "from numpy import linalg as LA\n",
    "from scipy import signal"
   ]
  },
  {
   "cell_type": "code",
   "execution_count": 8,
   "metadata": {},
   "outputs": [],
   "source": [
    "Dt_c = 0.2\n",
    "scaled_dX = dX*np.sqrt(0.2)"
   ]
  },
  {
   "cell_type": "code",
   "execution_count": 9,
   "metadata": {},
   "outputs": [
    {
     "data": {
      "text/plain": [
       "[<matplotlib.lines.Line2D at 0x76da2819cbb0>]"
      ]
     },
     "execution_count": 9,
     "metadata": {},
     "output_type": "execute_result"
    },
    {
     "data": {
      "image/png": "[encoded data removed]",
      "text/plain": [
       "<Figure size 432x288 with 1 Axes>"
      ]
     },
     "metadata": {
      "needs_background": "light"
     },
     "output_type": "display_data"
    }
   ],
   "source": [
    "plt.plot(np.mean(scaled_dX, axis=0))"
   ]
  },
  {
   "cell_type": "code",
   "execution_count": 10,
   "metadata": {},
   "outputs": [
    {
     "data": {
      "text/plain": [
       "(300, 24834)"
      ]
     },
     "execution_count": 10,
     "metadata": {},
     "output_type": "execute_result"
    }
   ],
   "source": [
    "F = signal.detrend(scaled_dX, axis=0, type='constant')\n",
    "F.shape"
   ]
  },
  {
   "cell_type": "code",
   "execution_count": 11,
   "metadata": {},
   "outputs": [],
   "source": [
    "A, b, CT = LA.svd(F, full_matrices=False)"
   ]
  },
  {
   "cell_type": "code",
   "execution_count": 12,
   "metadata": {},
   "outputs": [
    {
     "data": {
      "text/plain": [
       "array([5.07276886e-02, 2.34107864e-02, 2.17526629e-02, 1.92499085e-02,\n",
       "       1.64161995e-02, 1.27676435e-02, 1.15149794e-02, 1.00017300e-02,\n",
       "       8.64383756e-03, 7.50282890e-03, 7.20479611e-03, 6.02866957e-03,\n",
       "       5.19092792e-03, 4.86282337e-03, 4.66295878e-03, 3.76875083e-03,\n",
       "       3.26291384e-03, 2.99048416e-03, 2.97085970e-03, 2.66845726e-03,\n",
       "       2.20796779e-03, 2.15839576e-03, 2.11489108e-03, 1.99283935e-03,\n",
       "       1.76624089e-03, 1.63517661e-03, 1.48054097e-03, 1.34707637e-03,\n",
       "       1.27770955e-03, 1.05492412e-03, 9.71766837e-04, 9.29664580e-04,\n",
       "       8.66259925e-04, 8.08769195e-04, 7.85148952e-04, 6.79199998e-04,\n",
       "       6.57137314e-04, 6.11877444e-04, 6.00234368e-04, 5.43631720e-04,\n",
       "       4.97947618e-04, 4.90446118e-04, 4.58212300e-04, 4.08435089e-04,\n",
       "       3.06782479e-04, 2.69926282e-04, 2.65883618e-04, 2.41059940e-04,\n",
       "       2.36268695e-04, 2.33199404e-04, 2.31268230e-04, 2.09205281e-04,\n",
       "       1.90225703e-04, 1.74254541e-04, 1.60111461e-04, 1.52485211e-04,\n",
       "       1.48519244e-04, 1.36972183e-04, 1.30750985e-04, 1.20059878e-04,\n",
       "       1.18563590e-04, 1.06400522e-04, 9.84892214e-05, 9.63176399e-05,\n",
       "       8.09709397e-05, 7.95001477e-05, 7.81481215e-05, 6.99281196e-05,\n",
       "       6.54299181e-05, 6.19735982e-05, 5.88947852e-05, 4.90644111e-05,\n",
       "       4.80937720e-05, 4.62616881e-05, 4.29212400e-05, 4.08048809e-05,\n",
       "       3.95765929e-05, 3.91565502e-05, 3.61393651e-05, 3.45515222e-05,\n",
       "       3.13166934e-05, 2.98257452e-05, 2.67078835e-05, 2.53536203e-05,\n",
       "       2.47058537e-05, 2.26112612e-05, 2.21616874e-05, 2.12234001e-05,\n",
       "       2.01986396e-05, 1.92201724e-05, 1.82054169e-05, 1.68357288e-05,\n",
       "       1.52936687e-05, 1.48191589e-05, 1.38522251e-05, 1.29173534e-05,\n",
       "       1.25156657e-05, 1.18518731e-05, 1.12746525e-05, 1.09946863e-05,\n",
       "       1.00025321e-05, 9.66906886e-06, 8.68671249e-06, 8.12661767e-06,\n",
       "       7.87907397e-06, 7.54112748e-06, 7.44535205e-06, 6.97470628e-06,\n",
       "       6.88782756e-06, 6.69955409e-06, 6.49923980e-06, 6.05244504e-06,\n",
       "       5.72710414e-06, 5.18692519e-06, 4.96486354e-06, 4.67210038e-06,\n",
       "       4.57391212e-06, 4.08293683e-06, 3.93907165e-06, 3.77181423e-06,\n",
       "       3.59666913e-06, 3.53320601e-06, 3.28580916e-06, 3.20723928e-06,\n",
       "       2.97854181e-06, 2.85223486e-06, 2.60758760e-06, 2.53658227e-06,\n",
       "       2.43777339e-06, 2.40435965e-06, 2.27861500e-06, 2.10078303e-06,\n",
       "       2.03510708e-06, 1.99419678e-06, 1.92987048e-06, 1.87881342e-06,\n",
       "       1.81031126e-06, 1.63346726e-06, 1.62894225e-06, 1.57988744e-06,\n",
       "       1.43812737e-06, 1.42888899e-06, 1.31187788e-06, 1.19429825e-06,\n",
       "       1.10170222e-06, 1.09626975e-06, 1.08437539e-06, 9.89614948e-07,\n",
       "       9.45303178e-07, 9.42588906e-07, 8.55500463e-07, 8.50436588e-07,\n",
       "       8.29160407e-07, 7.42720370e-07, 7.24118554e-07, 7.01818920e-07,\n",
       "       6.81637041e-07, 6.61975346e-07, 6.15193229e-07, 5.96651941e-07,\n",
       "       5.88489834e-07, 5.34788822e-07, 5.26190546e-07, 5.13545953e-07,\n",
       "       4.70481706e-07, 4.65291066e-07, 4.42372463e-07, 4.14606107e-07,\n",
       "       3.79642753e-07, 3.72503105e-07, 3.72074688e-07, 3.52777499e-07,\n",
       "       3.43263612e-07, 3.17435630e-07, 2.81072544e-07, 2.64851379e-07,\n",
       "       2.51388946e-07, 2.39886112e-07, 2.36205225e-07, 2.31018777e-07,\n",
       "       2.24098496e-07, 2.13236788e-07, 2.09692704e-07, 2.02325844e-07,\n",
       "       1.85999675e-07, 1.84303068e-07, 1.70899145e-07, 1.65362896e-07,\n",
       "       1.63487322e-07, 1.48428609e-07, 1.34899348e-07, 1.32902921e-07,\n",
       "       1.32102191e-07, 1.25492834e-07, 1.15796641e-07, 1.12240730e-07,\n",
       "       1.12001076e-07, 1.03802183e-07, 1.01773611e-07, 9.93193207e-08,\n",
       "       9.73642878e-08, 9.16163993e-08, 8.39072955e-08, 8.14602724e-08,\n",
       "       8.06781385e-08, 7.56443878e-08, 7.04609017e-08, 6.63364222e-08,\n",
       "       6.57905561e-08, 6.42148360e-08, 5.92697261e-08, 5.58786404e-08,\n",
       "       5.55819511e-08, 5.19812853e-08, 4.91760668e-08, 4.77119730e-08,\n",
       "       4.67947954e-08, 4.48187126e-08, 4.30964089e-08, 4.15036953e-08,\n",
       "       4.09408336e-08, 3.98550966e-08, 3.92486934e-08, 3.56824951e-08,\n",
       "       3.48879068e-08, 3.31571795e-08, 3.22063717e-08, 3.11626320e-08,\n",
       "       3.02489714e-08, 2.95721604e-08, 2.75053859e-08, 2.73154701e-08,\n",
       "       2.51197888e-08, 2.49183255e-08, 2.32012940e-08, 2.17111135e-08,\n",
       "       2.13196049e-08, 2.05961864e-08, 2.03405759e-08, 1.97519367e-08,\n",
       "       1.88627284e-08, 1.88132192e-08, 1.70656307e-08, 1.68870832e-08,\n",
       "       1.65643032e-08, 1.62185636e-08, 1.58340225e-08, 1.50871877e-08,\n",
       "       1.45303410e-08, 1.35638434e-08, 1.35555943e-08, 1.26568408e-08,\n",
       "       1.18547092e-08, 1.17134484e-08, 1.13242095e-08, 1.09894388e-08,\n",
       "       1.04835337e-08, 1.02149879e-08, 9.89299602e-09, 9.60904410e-09,\n",
       "       9.21843527e-09, 8.77599928e-09, 8.54668976e-09, 8.35924025e-09,\n",
       "       7.99570234e-09, 7.60539223e-09, 7.44847141e-09, 6.85897768e-09,\n",
       "       6.73349680e-09, 6.25954434e-09, 5.81626495e-09, 5.80307361e-09,\n",
       "       5.43658110e-09, 5.25338183e-09, 5.14115741e-09, 5.04522842e-09,\n",
       "       4.89573283e-09, 4.44930840e-09, 4.32386314e-09, 4.22883055e-09,\n",
       "       3.96524338e-09, 3.92876496e-09, 3.70031838e-09, 3.47575804e-09,\n",
       "       3.18746787e-09, 2.84703089e-09, 2.61232320e-09, 2.54220497e-09,\n",
       "       2.38723450e-09, 2.13871312e-09, 1.93157093e-09, 1.90839830e-09,\n",
       "       1.73007458e-09, 1.59172348e-09, 1.40272163e-09, 1.29723846e-09,\n",
       "       8.38869255e-10, 7.49849701e-10, 4.67265594e-10, 1.73936116e-32])"
      ]
     },
     "execution_count": 12,
     "metadata": {},
     "output_type": "execute_result"
    }
   ],
   "source": [
    "b**2/(m-1)"
   ]
  },
  {
   "cell_type": "code",
   "execution_count": 13,
   "metadata": {},
   "outputs": [],
   "source": [
    "B = np.diag(b)"
   ]
  },
  {
   "cell_type": "code",
   "execution_count": 14,
   "metadata": {},
   "outputs": [
    {
     "data": {
      "text/plain": [
       "((300, 300), (300, 24834))"
      ]
     },
     "execution_count": 14,
     "metadata": {},
     "output_type": "execute_result"
    }
   ],
   "source": [
    "B = np.diag(b/np.sqrt(m-1))\n",
    "B.shape, CT.shape"
   ]
  },
  {
   "cell_type": "code",
   "execution_count": 15,
   "metadata": {},
   "outputs": [],
   "source": [
    "BCT = np.matmul(B, CT)"
   ]
  },
  {
   "cell_type": "code",
   "execution_count": 16,
   "metadata": {},
   "outputs": [],
   "source": [
    "var_vec = b**2/(m-1)"
   ]
  },
  {
   "cell_type": "code",
   "execution_count": 17,
   "metadata": {},
   "outputs": [
    {
     "name": "stdout",
     "output_type": "stream",
     "text": [
      "Total vairance captured by first 56 eigenvalues: 99.06 percent\n"
     ]
    }
   ],
   "source": [
    "n_eigval = 56\n",
    "\n",
    "p1 = 100*np.sum(var_vec[:n_eigval])/(np.sum(var_vec))\n",
    "\n",
    "print(f'Total vairance captured by first {n_eigval} eigenvalues: {round(p1,2)} percent')"
   ]
  },
  {
   "cell_type": "code",
   "execution_count": 18,
   "metadata": {},
   "outputs": [
    {
     "name": "stdout",
     "output_type": "stream",
     "text": [
      "Total vairance captured by first 23 eigenvalues: 90.29 percent\n"
     ]
    }
   ],
   "source": [
    "n_eigval = 23\n",
    "\n",
    "p1 = 100*np.sum(var_vec[:n_eigval])/(np.sum(var_vec))\n",
    "\n",
    "print(f'Total vairance captured by first {n_eigval} eigenvalues: {round(p1,2)} percent')"
   ]
  },
  {
   "cell_type": "code",
   "execution_count": 19,
   "metadata": {},
   "outputs": [
    {
     "name": "stdout",
     "output_type": "stream",
     "text": [
      "Total vairance captured by first 10 eigenvalues: 70.8 percent\n"
     ]
    }
   ],
   "source": [
    "n_eigval = 10\n",
    "\n",
    "p1 = 100*np.sum(var_vec[:n_eigval])/(np.sum(var_vec))\n",
    "\n",
    "print(f'Total vairance captured by first {n_eigval} eigenvalues: {round(p1,2)} percent')"
   ]
  },
  {
   "cell_type": "code",
   "execution_count": 20,
   "metadata": {},
   "outputs": [],
   "source": [
    "import matplotlib\n",
    "matplotlib.rc('text', usetex=True)\n",
    "matplotlib.rc('font', **{'family': 'serif', 'serif': ['Computer Modern']})\n",
    "\n",
    "BIG_SIZE = 14\n",
    "BIGGER_SIZE = 16\n",
    "BIGGEST_SIZE = 20\n",
    "\n",
    "matplotlib.rc('axes', titlesize=BIGGER_SIZE)     # fontsize of the axes title\n",
    "matplotlib.rc('axes', labelsize=BIGGER_SIZE)    # fontsize of the x and y labels\n",
    "matplotlib.rc('xtick', labelsize=BIG_SIZE)    # fontsize of the tick labels\n",
    "matplotlib.rc('ytick', labelsize=BIG_SIZE)    # fontsize of the tick labels\n",
    "matplotlib.rc('legend', fontsize=BIGGER_SIZE)    # legend fontsize\n",
    "matplotlib.rc('figure', titlesize=BIGGEST_SIZE)  # fontsize of the figure title"
   ]
  },
  {
   "cell_type": "code",
   "execution_count": 21,
   "metadata": {},
   "outputs": [
    {
     "data": {
      "image/png": "[encoded data removed]",
      "text/plain": [
       "<Figure size 576x432 with 1 Axes>"
      ]
     },
     "metadata": {
      "needs_background": "light"
     },
     "output_type": "display_data"
    }
   ],
   "source": [
    "fig, ax = plt.subplots(figsize=(8,6))\n",
    "ax.plot(9,var_vec[9], 'go', ms=5, label=r'$n_{\\xi} \\equiv 70 \\%$')\n",
    "ax.plot(22,var_vec[22], 'ro', ms=5, label=r'$n_{\\xi} \\equiv 90 \\%$')\n",
    "ax.plot(np.arange(var_vec.size),var_vec)\n",
    "ax.legend(loc = \"upper right\")\n",
    "ax.set_xlabel(r\"number of EOFs\")\n",
    "ax.set_ylabel(r\"normalized spectrum\")\n",
    "ax.annotate(f\"{23}\", (22, var_vec[22]), fontsize= 15, textcoords=\"offset points\", xytext=(10,5), ha= 'center')\n",
    "ax.annotate(f\"{10}\", (9, var_vec[9]), fontsize= 15, textcoords=\"offset points\", xytext=(10,5), ha= 'center')\n",
    "plt.savefig('./plots/32x32_normalised_spectrum.pdf', bbox_inches='tight')"
   ]
  },
  {
   "cell_type": "code",
   "execution_count": 41,
   "metadata": {},
   "outputs": [
    {
     "data": {
      "text/plain": [
       "((300, 24834), (300, 12417, 2))"
      ]
     },
     "execution_count": 41,
     "metadata": {},
     "output_type": "execute_result"
    }
   ],
   "source": [
    "combined_vec = BCT\n",
    "detached_vec = np.zeros((combined_vec.shape[0],int(combined_vec.shape[1]/2),2))\n",
    "for i in range(combined_vec.shape[0]):\n",
    "    detached_vec[i,:,0] = combined_vec[i,:int(combined_vec.shape[1]/2)]\n",
    "    detached_vec[i,:,1] = combined_vec[i,int(combined_vec.shape[1]/2):]\n",
    "    \n",
    "combined_vec.shape, detached_vec.shape"
   ]
  },
  {
   "cell_type": "code",
   "execution_count": 42,
   "metadata": {},
   "outputs": [],
   "source": [
    "xi_mat = detached_vec"
   ]
  },
  {
   "cell_type": "code",
   "execution_count": 43,
   "metadata": {},
   "outputs": [
    {
     "data": {
      "text/plain": [
       "<matplotlib.legend.Legend at 0x7b5c06d331f0>"
      ]
     },
     "execution_count": 43,
     "metadata": {},
     "output_type": "execute_result"
    },
    {
     "data": {
      "image/png": "[encoded data removed]",
      "text/plain": [
       "<Figure size 432x288 with 1 Axes>"
      ]
     },
     "metadata": {
      "needs_background": "light"
     },
     "output_type": "display_data"
    }
   ],
   "source": [
    "plt.plot(xi_mat[0,:,0], label='1st x eigenvec'), plt.plot(xi_mat[31,:,0], label='32nd x eigenvec')\n",
    "plt.legend()"
   ]
  },
  {
   "cell_type": "code",
   "execution_count": 44,
   "metadata": {},
   "outputs": [
    {
     "data": {
      "text/plain": [
       "<matplotlib.legend.Legend at 0x7b5c06d307f0>"
      ]
     },
     "execution_count": 44,
     "metadata": {},
     "output_type": "execute_result"
    },
    {
     "data": {
      "image/png": "[encoded data removed]",
      "text/plain": [
       "<Figure size 432x288 with 1 Axes>"
      ]
     },
     "metadata": {
      "needs_background": "light"
     },
     "output_type": "display_data"
    }
   ],
   "source": [
    "plt.plot(xi_mat[0,:,1], label='1st y eigenvec'), plt.plot(xi_mat[31,:,1], label='32nd y eigenvec')\n",
    "plt.legend()"
   ]
  },
  {
   "cell_type": "code",
   "execution_count": 45,
   "metadata": {},
   "outputs": [
    {
     "data": {
      "text/plain": [
       "(56, 12417, 2)"
      ]
     },
     "execution_count": 45,
     "metadata": {},
     "output_type": "execute_result"
    }
   ],
   "source": [
    "eig_vec = xi_mat[:56,:,:]\n",
    "eig_vec.shape"
   ]
  },
  {
   "cell_type": "code",
   "execution_count": 46,
   "metadata": {},
   "outputs": [],
   "source": [
    "data_file = './calculated_xi_vectors/xi_matrix_56_eigvec_c_1_by_32_decor_t_1_Dt_t=50_to_t=110.npz'\n",
    "\n",
    "np.savez(data_file, xi_mat = eig_vec)"
   ]
  }
 ],
 "metadata": {
  "kernelspec": {
   "display_name": "Python 3",
   "language": "python",
   "name": "python3"
  },
  "language_info": {
   "codemirror_mode": {
    "name": "ipython",
    "version": 3
   },
   "file_extension": ".py",
   "mimetype": "text/x-python",
   "name": "python",
   "nbconvert_exporter": "python",
   "pygments_lexer": "ipython3",
   "version": "3.10.12"
  }
 },
 "nbformat": 4,
 "nbformat_minor": 2
}
