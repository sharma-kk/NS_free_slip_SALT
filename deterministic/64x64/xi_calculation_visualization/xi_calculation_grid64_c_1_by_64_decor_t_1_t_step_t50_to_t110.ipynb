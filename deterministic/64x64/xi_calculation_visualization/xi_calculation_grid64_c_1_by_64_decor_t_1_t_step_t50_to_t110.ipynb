{
 "cells": [
  {
   "cell_type": "code",
   "execution_count": 1,
   "metadata": {},
   "outputs": [],
   "source": [
    "import numpy as np\n",
    "import matplotlib.pyplot as plt"
   ]
  },
  {
   "cell_type": "code",
   "execution_count": 2,
   "metadata": {},
   "outputs": [],
   "source": [
    "import matplotlib\n",
    "matplotlib.rc('text', usetex=True)\n",
    "matplotlib.rc('font', **{'family': 'serif', 'serif': ['Computer Modern']})\n",
    "\n",
    "BIG_SIZE = 14\n",
    "BIGGER_SIZE = 16\n",
    "BIGGEST_SIZE = 20\n",
    "\n",
    "matplotlib.rc('axes', titlesize=BIGGER_SIZE)     # fontsize of the axes title\n",
    "matplotlib.rc('axes', labelsize=BIGGER_SIZE)    # fontsize of the x and y labels\n",
    "matplotlib.rc('xtick', labelsize=BIG_SIZE)    # fontsize of the tick labels\n",
    "matplotlib.rc('ytick', labelsize=BIG_SIZE)    # fontsize of the tick labels\n",
    "matplotlib.rc('legend', fontsize=BIGGER_SIZE)    # legend fontsize\n",
    "matplotlib.rc('figure', titlesize=BIGGEST_SIZE)  # fontsize of the figure title"
   ]
  },
  {
   "cell_type": "code",
   "execution_count": 3,
   "metadata": {},
   "outputs": [],
   "source": [
    "data1 = np.load('./data_for_xi_calculation/dX_data_t=50_to_t=100_grid_64_c_1by64.npz')\n",
    "data2 = np.load('./data_for_xi_calculation/dX_data_t=100_to_t=110_grid_64_c_1by64.npz')"
   ]
  },
  {
   "cell_type": "code",
   "execution_count": 4,
   "metadata": {},
   "outputs": [
    {
     "data": {
      "text/plain": [
       "['dX_x', 'dX_y']"
      ]
     },
     "execution_count": 4,
     "metadata": {},
     "output_type": "execute_result"
    }
   ],
   "source": [
    "data1.files"
   ]
  },
  {
   "cell_type": "code",
   "execution_count": 5,
   "metadata": {},
   "outputs": [],
   "source": [
    "# combining the data\n",
    "dX1 = np.concatenate((data1['dX_x'], data2['dX_x']), axis=0)\n",
    "dX2 = np.concatenate((data1['dX_y'], data2['dX_y']), axis=0)"
   ]
  },
  {
   "cell_type": "code",
   "execution_count": 6,
   "metadata": {},
   "outputs": [
    {
     "data": {
      "text/plain": [
       "((600, 49409), (600, 49409))"
      ]
     },
     "execution_count": 6,
     "metadata": {},
     "output_type": "execute_result"
    }
   ],
   "source": [
    "dX1.shape, dX2.shape"
   ]
  },
  {
   "cell_type": "code",
   "execution_count": 7,
   "metadata": {},
   "outputs": [
    {
     "data": {
      "text/plain": [
       "(600, 98818)"
      ]
     },
     "execution_count": 7,
     "metadata": {},
     "output_type": "execute_result"
    }
   ],
   "source": [
    "dX = np.concatenate((dX1, dX2), axis=1)\n",
    "dX.shape"
   ]
  },
  {
   "cell_type": "code",
   "execution_count": 8,
   "metadata": {},
   "outputs": [
    {
     "name": "stdout",
     "output_type": "stream",
     "text": [
      "600\n"
     ]
    }
   ],
   "source": [
    "m = dX.shape[0]\n",
    "print(m)"
   ]
  },
  {
   "cell_type": "code",
   "execution_count": 9,
   "metadata": {},
   "outputs": [],
   "source": [
    "from numpy import linalg as LA\n",
    "from scipy import signal"
   ]
  },
  {
   "cell_type": "code",
   "execution_count": 10,
   "metadata": {},
   "outputs": [],
   "source": [
    "Dt_c = 0.1\n",
    "scaled_dX = dX*np.sqrt(Dt_c)"
   ]
  },
  {
   "cell_type": "code",
   "execution_count": 11,
   "metadata": {},
   "outputs": [
    {
     "data": {
      "text/plain": [
       "[<matplotlib.lines.Line2D at 0x7390e55b4bb0>]"
      ]
     },
     "execution_count": 11,
     "metadata": {},
     "output_type": "execute_result"
    },
    {
     "data": {
      "image/png": "[encoded data removed]",
      "text/plain": [
       "<Figure size 432x288 with 1 Axes>"
      ]
     },
     "metadata": {
      "needs_background": "light"
     },
     "output_type": "display_data"
    }
   ],
   "source": [
    "plt.plot(np.mean(scaled_dX, axis=0))"
   ]
  },
  {
   "cell_type": "code",
   "execution_count": 12,
   "metadata": {},
   "outputs": [
    {
     "data": {
      "text/plain": [
       "(600, 98818)"
      ]
     },
     "execution_count": 12,
     "metadata": {},
     "output_type": "execute_result"
    }
   ],
   "source": [
    "F = signal.detrend(scaled_dX, axis=0, type='constant')\n",
    "F.shape"
   ]
  },
  {
   "cell_type": "code",
   "execution_count": 13,
   "metadata": {},
   "outputs": [],
   "source": [
    "A, b, CT = LA.svd(F, full_matrices=False)"
   ]
  },
  {
   "cell_type": "code",
   "execution_count": 14,
   "metadata": {},
   "outputs": [
    {
     "data": {
      "text/plain": [
       "array([1.35236693e-02, 7.15600434e-03, 6.85312808e-03, 6.35160377e-03,\n",
       "       5.48520757e-03, 4.32138951e-03, 3.93330131e-03, 3.50568173e-03,\n",
       "       3.16266504e-03, 2.97989040e-03, 2.76713711e-03, 2.47025900e-03,\n",
       "       2.06571713e-03, 1.97351348e-03, 1.91883135e-03, 1.63112307e-03,\n",
       "       1.46695087e-03, 1.41923021e-03, 1.34587187e-03, 1.23908807e-03,\n",
       "       1.16042416e-03, 1.10804977e-03, 1.07370605e-03, 1.00143668e-03,\n",
       "       9.08467841e-04, 8.60633798e-04, 8.08651510e-04, 7.75161055e-04,\n",
       "       7.10453694e-04, 6.14256181e-04, 6.01188647e-04, 5.56037246e-04,\n",
       "       5.50004396e-04, 5.12670318e-04, 4.84338294e-04, 4.41733483e-04,\n",
       "       4.15682392e-04, 3.99984365e-04, 3.81228428e-04, 3.55686215e-04,\n",
       "       3.48903932e-04, 3.40260293e-04, 3.14920792e-04, 2.99611495e-04,\n",
       "       2.44722883e-04, 2.17981115e-04, 2.12275851e-04, 2.05241873e-04,\n",
       "       1.90499387e-04, 1.88794611e-04, 1.83186507e-04, 1.61976099e-04,\n",
       "       1.54145855e-04, 1.46711553e-04, 1.41911324e-04, 1.30998073e-04,\n",
       "       1.23763719e-04, 1.18328339e-04, 1.15259565e-04, 1.05877220e-04,\n",
       "       1.04885914e-04, 9.92442626e-05, 9.16328326e-05, 8.95487956e-05,\n",
       "       7.95354403e-05, 7.81515342e-05, 7.74199397e-05, 6.76387808e-05,\n",
       "       6.54184529e-05, 6.14104271e-05, 5.92453164e-05, 5.22150753e-05,\n",
       "       5.16612479e-05, 4.92365028e-05, 4.53897822e-05, 4.43179085e-05,\n",
       "       4.25612479e-05, 4.10885151e-05, 4.01648334e-05, 3.81686367e-05,\n",
       "       3.44433546e-05, 3.26563812e-05, 3.02322257e-05, 2.83586040e-05,\n",
       "       2.82771932e-05, 2.72477487e-05, 2.70051204e-05, 2.40767385e-05,\n",
       "       2.28780029e-05, 2.27761866e-05, 2.18617613e-05, 1.99672309e-05,\n",
       "       1.83184253e-05, 1.75863730e-05, 1.72465767e-05, 1.61533616e-05,\n",
       "       1.53340789e-05, 1.50857840e-05, 1.41484587e-05, 1.38584904e-05,\n",
       "       1.25948516e-05, 1.21391409e-05, 1.13304642e-05, 1.04060791e-05,\n",
       "       1.01648054e-05, 9.78563935e-06, 9.67201841e-06, 9.41079004e-06,\n",
       "       9.31373203e-06, 9.03829373e-06, 8.62170384e-06, 8.03603745e-06,\n",
       "       7.75547620e-06, 7.10223430e-06, 6.64155569e-06, 6.23687050e-06,\n",
       "       6.11571062e-06, 5.61655585e-06, 5.50517658e-06, 5.26020843e-06,\n",
       "       4.99324005e-06, 4.95661866e-06, 4.58815064e-06, 4.54485478e-06,\n",
       "       4.21639772e-06, 4.06681209e-06, 3.77699796e-06, 3.59283883e-06,\n",
       "       3.50925501e-06, 3.46052671e-06, 3.23950444e-06, 3.07500330e-06,\n",
       "       3.04101004e-06, 2.96404206e-06, 2.81103319e-06, 2.76268183e-06,\n",
       "       2.69080920e-06, 2.39978131e-06, 2.37478250e-06, 2.36687075e-06,\n",
       "       2.11661867e-06, 2.08431422e-06, 1.97876132e-06, 1.79487095e-06,\n",
       "       1.66452903e-06, 1.63107858e-06, 1.62339453e-06, 1.55139960e-06,\n",
       "       1.49032954e-06, 1.46500938e-06, 1.32818888e-06, 1.29570352e-06,\n",
       "       1.28300475e-06, 1.16615276e-06, 1.10719749e-06, 1.08200120e-06,\n",
       "       1.06650366e-06, 1.04370777e-06, 9.68502758e-07, 9.17439072e-07,\n",
       "       9.06406790e-07, 8.39957686e-07, 8.16865623e-07, 8.02189644e-07,\n",
       "       7.58674952e-07, 7.54499670e-07, 7.20339634e-07, 6.79001992e-07,\n",
       "       6.25448903e-07, 6.15194575e-07, 5.94442114e-07, 5.65043213e-07,\n",
       "       5.42434238e-07, 5.14249494e-07, 4.63742325e-07, 4.30124033e-07,\n",
       "       4.10354251e-07, 3.89522292e-07, 3.81399687e-07, 3.80404297e-07,\n",
       "       3.79018300e-07, 3.58982746e-07, 3.40115325e-07, 3.33601533e-07,\n",
       "       3.16672617e-07, 3.11393296e-07, 2.89392068e-07, 2.71034929e-07,\n",
       "       2.69865997e-07, 2.52624602e-07, 2.29409277e-07, 2.20243211e-07,\n",
       "       2.18169303e-07, 2.10323266e-07, 2.00578181e-07, 1.86456651e-07,\n",
       "       1.84991932e-07, 1.78073162e-07, 1.71685713e-07, 1.70825593e-07,\n",
       "       1.65912333e-07, 1.58990756e-07, 1.42484161e-07, 1.37736409e-07,\n",
       "       1.36445674e-07, 1.30368896e-07, 1.21239062e-07, 1.13567014e-07,\n",
       "       1.12374029e-07, 1.10852834e-07, 1.02302774e-07, 9.60697849e-08,\n",
       "       9.42968975e-08, 8.99566852e-08, 8.33992132e-08, 8.25625795e-08,\n",
       "       8.20063095e-08, 7.66207455e-08, 7.18304996e-08, 7.01521101e-08,\n",
       "       6.90317919e-08, 6.78990948e-08, 6.50040496e-08, 6.36009513e-08,\n",
       "       6.12905273e-08, 5.71396667e-08, 5.51472270e-08, 5.41078084e-08,\n",
       "       5.26672103e-08, 5.11005101e-08, 4.88658341e-08, 4.66796988e-08,\n",
       "       4.45057283e-08, 4.10028096e-08, 3.88078214e-08, 3.83373015e-08,\n",
       "       3.77122615e-08, 3.45569103e-08, 3.41295139e-08, 3.34798214e-08,\n",
       "       3.24265183e-08, 3.20074067e-08, 3.08459080e-08, 2.96652292e-08,\n",
       "       2.79171895e-08, 2.71708303e-08, 2.65067167e-08, 2.58342255e-08,\n",
       "       2.39559092e-08, 2.34116061e-08, 2.27749215e-08, 2.21486975e-08,\n",
       "       2.09832386e-08, 1.95210305e-08, 1.85612859e-08, 1.82879287e-08,\n",
       "       1.71655324e-08, 1.67314327e-08, 1.63618368e-08, 1.61102681e-08,\n",
       "       1.59888737e-08, 1.50348389e-08, 1.45544522e-08, 1.40977231e-08,\n",
       "       1.31175581e-08, 1.29384430e-08, 1.27350049e-08, 1.20735936e-08,\n",
       "       1.15577223e-08, 1.10639069e-08, 1.06910924e-08, 1.01836188e-08,\n",
       "       9.74901575e-09, 9.54896901e-09, 9.19880869e-09, 8.73171610e-09,\n",
       "       8.28750721e-09, 8.10153827e-09, 7.99572214e-09, 7.74618670e-09,\n",
       "       7.30856994e-09, 7.05826896e-09, 7.01038974e-09, 6.76490113e-09,\n",
       "       6.26388442e-09, 6.01527815e-09, 5.96670661e-09, 5.77415847e-09,\n",
       "       5.65071217e-09, 5.51563849e-09, 5.31433157e-09, 5.10003815e-09,\n",
       "       4.76884668e-09, 4.75083030e-09, 4.56515089e-09, 4.27830130e-09,\n",
       "       4.12172981e-09, 3.87452596e-09, 3.84748248e-09, 3.76246613e-09,\n",
       "       3.56411314e-09, 3.51082149e-09, 3.39985796e-09, 3.29416279e-09,\n",
       "       3.19356676e-09, 2.96585751e-09, 2.92132266e-09, 2.90267799e-09,\n",
       "       2.76514164e-09, 2.70186840e-09, 2.61287641e-09, 2.44183972e-09,\n",
       "       2.34836624e-09, 2.25995427e-09, 2.19962383e-09, 2.16973531e-09,\n",
       "       2.06397803e-09, 1.96858577e-09, 1.91232912e-09, 1.80829570e-09,\n",
       "       1.76245144e-09, 1.72911754e-09, 1.70371222e-09, 1.62886650e-09,\n",
       "       1.58788416e-09, 1.52971097e-09, 1.41010315e-09, 1.37580968e-09,\n",
       "       1.37028735e-09, 1.30989094e-09, 1.28057300e-09, 1.22956807e-09,\n",
       "       1.16553328e-09, 1.14689568e-09, 1.06408634e-09, 1.04753965e-09,\n",
       "       1.04561145e-09, 1.00673942e-09, 9.91608327e-10, 9.38860419e-10,\n",
       "       8.82172022e-10, 8.59079659e-10, 8.52554303e-10, 8.35251307e-10,\n",
       "       7.86000073e-10, 7.32853801e-10, 7.26250217e-10, 7.11209433e-10,\n",
       "       6.72487297e-10, 6.55781813e-10, 6.21623720e-10, 6.03869157e-10,\n",
       "       5.83631312e-10, 5.67087521e-10, 5.63243111e-10, 5.41427075e-10,\n",
       "       5.19443475e-10, 5.10250443e-10, 4.82516171e-10, 4.65910365e-10,\n",
       "       4.44851172e-10, 4.31350000e-10, 4.20999303e-10, 4.08413840e-10,\n",
       "       4.00018194e-10, 3.79092554e-10, 3.71870990e-10, 3.59495353e-10,\n",
       "       3.52758737e-10, 3.49193703e-10, 3.34079246e-10, 3.14109709e-10,\n",
       "       3.05862129e-10, 2.96054074e-10, 2.87725451e-10, 2.74694489e-10,\n",
       "       2.62228529e-10, 2.55768584e-10, 2.49119166e-10, 2.39885715e-10,\n",
       "       2.29659248e-10, 2.21243194e-10, 2.17117202e-10, 2.12568814e-10,\n",
       "       2.05207547e-10, 1.96754767e-10, 1.88846551e-10, 1.84467305e-10,\n",
       "       1.78862584e-10, 1.70332462e-10, 1.65636605e-10, 1.58992685e-10,\n",
       "       1.53507560e-10, 1.49263998e-10, 1.46973814e-10, 1.40278617e-10,\n",
       "       1.32954009e-10, 1.26783290e-10, 1.25043002e-10, 1.23534892e-10,\n",
       "       1.17980292e-10, 1.12770270e-10, 1.07282997e-10, 1.06098262e-10,\n",
       "       1.00422762e-10, 9.49860185e-11, 9.36599231e-11, 9.14806971e-11,\n",
       "       8.85348898e-11, 8.63009910e-11, 8.13575976e-11, 8.03386244e-11,\n",
       "       7.91512810e-11, 7.56479903e-11, 7.28285624e-11, 6.87747018e-11,\n",
       "       6.59426946e-11, 6.38560655e-11, 6.17554636e-11, 5.97122278e-11,\n",
       "       5.67419457e-11, 5.39005495e-11, 5.27457794e-11, 5.22166666e-11,\n",
       "       5.03178387e-11, 4.95243470e-11, 4.78147002e-11, 4.58043404e-11,\n",
       "       4.37651549e-11, 4.13768506e-11, 4.03587918e-11, 3.85873181e-11,\n",
       "       3.68680063e-11, 3.64242593e-11, 3.53942716e-11, 3.44018948e-11,\n",
       "       3.38773001e-11, 3.29087259e-11, 3.18892586e-11, 3.03508394e-11,\n",
       "       2.88531830e-11, 2.82746997e-11, 2.65844910e-11, 2.55022033e-11,\n",
       "       2.45516403e-11, 2.38205626e-11, 2.31340111e-11, 2.27822767e-11,\n",
       "       2.24597422e-11, 2.20039048e-11, 2.10343868e-11, 2.00541276e-11,\n",
       "       1.88582239e-11, 1.84457790e-11, 1.83591731e-11, 1.73494478e-11,\n",
       "       1.68866739e-11, 1.56200585e-11, 1.54631373e-11, 1.50190103e-11,\n",
       "       1.48891648e-11, 1.40740999e-11, 1.36468534e-11, 1.34129953e-11,\n",
       "       1.29973236e-11, 1.24067173e-11, 1.19914409e-11, 1.15427585e-11,\n",
       "       1.11023973e-11, 1.05500722e-11, 1.02100426e-11, 9.84160984e-12,\n",
       "       9.53186378e-12, 9.22885724e-12, 9.17360489e-12, 9.00513494e-12,\n",
       "       8.41525611e-12, 7.95696312e-12, 7.70608017e-12, 7.39906492e-12,\n",
       "       7.19964238e-12, 6.85834445e-12, 6.58637667e-12, 6.49934413e-12,\n",
       "       6.33714143e-12, 6.11939157e-12, 5.94155808e-12, 5.81255708e-12,\n",
       "       5.47188930e-12, 5.26366980e-12, 5.11998002e-12, 4.98774993e-12,\n",
       "       4.56155380e-12, 4.44842592e-12, 4.20484006e-12, 4.11185022e-12,\n",
       "       4.09107715e-12, 3.90993320e-12, 3.80093958e-12, 3.62095255e-12,\n",
       "       3.49358299e-12, 3.45030677e-12, 3.12514859e-12, 3.02333918e-12,\n",
       "       2.93170391e-12, 2.78769167e-12, 2.77127979e-12, 2.65429853e-12,\n",
       "       2.55815799e-12, 2.39196248e-12, 2.35466801e-12, 2.18693179e-12,\n",
       "       2.12748408e-12, 2.10793021e-12, 2.01685944e-12, 1.87724097e-12,\n",
       "       1.85141607e-12, 1.72416683e-12, 1.66181973e-12, 1.61424292e-12,\n",
       "       1.59282751e-12, 1.49369824e-12, 1.34363690e-12, 1.31702140e-12,\n",
       "       1.27147026e-12, 1.14356192e-12, 1.13827501e-12, 1.09293115e-12,\n",
       "       1.03408386e-12, 1.01113844e-12, 9.79058673e-13, 9.78032111e-13,\n",
       "       9.31009230e-13, 8.43881806e-13, 8.04712554e-13, 7.98239349e-13,\n",
       "       6.83244914e-13, 6.66156547e-13, 6.35888894e-13, 5.99053675e-13,\n",
       "       5.87773068e-13, 5.73243584e-13, 5.61255242e-13, 5.13828681e-13,\n",
       "       4.83961890e-13, 4.82421561e-13, 4.13918715e-13, 4.03309834e-13,\n",
       "       3.93683443e-13, 3.33923999e-13, 3.15025293e-13, 3.03824009e-13,\n",
       "       2.93315639e-13, 2.81813532e-13, 2.78591742e-13, 2.36019968e-13,\n",
       "       2.30125163e-13, 2.11050030e-13, 1.90847628e-13, 1.90277552e-13,\n",
       "       1.81491896e-13, 1.58810740e-13, 1.43426325e-13, 1.36234923e-13,\n",
       "       1.32945826e-13, 1.31094479e-13, 1.09106691e-13, 1.08136430e-13,\n",
       "       8.87126706e-14, 8.51463420e-14, 7.23675111e-14, 6.42418620e-14,\n",
       "       6.23957326e-14, 5.68684747e-14, 5.21812451e-14, 5.06996069e-14,\n",
       "       4.94017745e-14, 4.63180670e-14, 4.16684964e-14, 3.74890062e-14,\n",
       "       3.33267073e-14, 3.06103943e-14, 2.57046489e-14, 2.38187612e-14,\n",
       "       2.25472497e-14, 1.93097929e-14, 1.82451167e-14, 1.65970101e-14,\n",
       "       1.31562360e-14, 1.27240801e-14, 1.15435546e-14, 9.78412321e-15,\n",
       "       8.30077135e-15, 5.97861896e-15, 5.67334848e-15, 3.95371536e-15,\n",
       "       2.59183129e-15, 2.46631220e-15, 7.70708246e-16, 1.01372775e-32])"
      ]
     },
     "execution_count": 14,
     "metadata": {},
     "output_type": "execute_result"
    }
   ],
   "source": [
    "b**2/(m-1)"
   ]
  },
  {
   "cell_type": "code",
   "execution_count": 15,
   "metadata": {},
   "outputs": [
    {
     "data": {
      "text/plain": [
       "array([1.16291312e-01, 8.45931696e-02, 8.27836220e-02, 7.96969496e-02,\n",
       "       7.40621872e-02, 6.57372764e-02, 6.27160371e-02, 5.92087977e-02,\n",
       "       5.62375768e-02, 5.45883724e-02, 5.26035845e-02, 4.97017001e-02,\n",
       "       4.54501610e-02, 4.44242443e-02, 4.38044673e-02, 4.03871647e-02,\n",
       "       3.83007946e-02, 3.76726720e-02, 3.66861265e-02, 3.52006827e-02,\n",
       "       3.40649991e-02, 3.32873816e-02, 3.27674541e-02, 3.16454843e-02,\n",
       "       3.01408003e-02, 2.93365608e-02, 2.84367985e-02, 2.78417143e-02,\n",
       "       2.66543372e-02, 2.47841922e-02, 2.45191486e-02, 2.35804420e-02,\n",
       "       2.34521725e-02, 2.26422242e-02, 2.20076872e-02, 2.10174566e-02,\n",
       "       2.03882906e-02, 1.99996091e-02, 1.95250718e-02, 1.88596451e-02,\n",
       "       1.86789703e-02, 1.84461457e-02, 1.77460078e-02, 1.73092893e-02,\n",
       "       1.56436212e-02, 1.47641835e-02, 1.45696895e-02, 1.43262651e-02,\n",
       "       1.38021515e-02, 1.37402551e-02, 1.35346410e-02, 1.27269831e-02,\n",
       "       1.24155489e-02, 1.21124545e-02, 1.19126539e-02, 1.14454389e-02,\n",
       "       1.11249143e-02, 1.08778830e-02, 1.07359007e-02, 1.02896657e-02,\n",
       "       1.02413824e-02, 9.96214147e-03, 9.57250399e-03, 9.46302254e-03,\n",
       "       8.91826442e-03, 8.84033564e-03, 8.79886014e-03, 8.22427996e-03,\n",
       "       8.08816746e-03, 7.83648053e-03, 7.69709792e-03, 7.22599995e-03,\n",
       "       7.18757594e-03, 7.01687272e-03, 6.73719394e-03, 6.65716971e-03,\n",
       "       6.52389821e-03, 6.41003238e-03, 6.33757314e-03, 6.17807711e-03,\n",
       "       5.86884610e-03, 5.71457620e-03, 5.49838392e-03, 5.32527971e-03,\n",
       "       5.31763041e-03, 5.21993762e-03, 5.19664511e-03, 4.90680532e-03,\n",
       "       4.78309554e-03, 4.77244032e-03, 4.67565624e-03, 4.46847075e-03,\n",
       "       4.28000296e-03, 4.19361098e-03, 4.15289979e-03, 4.01912448e-03,\n",
       "       3.91587524e-03, 3.88404223e-03, 3.76144370e-03, 3.72269934e-03,\n",
       "       3.54892260e-03, 3.48412699e-03, 3.36607550e-03, 3.22584548e-03,\n",
       "       3.18822920e-03, 3.12820066e-03, 3.10998688e-03, 3.06770110e-03,\n",
       "       3.05184076e-03, 3.00637551e-03, 2.93627380e-03, 2.83479055e-03,\n",
       "       2.78486556e-03, 2.66500175e-03, 2.57712159e-03, 2.49737272e-03,\n",
       "       2.47299628e-03, 2.36992739e-03, 2.34631127e-03, 2.29351443e-03,\n",
       "       2.23455589e-03, 2.22634648e-03, 2.14199688e-03, 2.13186650e-03,\n",
       "       2.05338689e-03, 2.01663385e-03, 1.94345002e-03, 1.89547852e-03,\n",
       "       1.87330057e-03, 1.86024910e-03, 1.79986234e-03, 1.75356873e-03,\n",
       "       1.74384920e-03, 1.72163935e-03, 1.67661361e-03, 1.66213171e-03,\n",
       "       1.64036862e-03, 1.54912276e-03, 1.54103293e-03, 1.53846376e-03,\n",
       "       1.45486036e-03, 1.44371542e-03, 1.40668451e-03, 1.33972794e-03,\n",
       "       1.29016628e-03, 1.27713687e-03, 1.27412501e-03, 1.24555193e-03,\n",
       "       1.22079054e-03, 1.21037572e-03, 1.15247077e-03, 1.13828974e-03,\n",
       "       1.13269800e-03, 1.07988553e-03, 1.05223452e-03, 1.04019287e-03,\n",
       "       1.03271664e-03, 1.02162017e-03, 9.84125377e-04, 9.57830398e-04,\n",
       "       9.52053985e-04, 9.16492055e-04, 9.03806186e-04, 8.95650403e-04,\n",
       "       8.71019490e-04, 8.68619405e-04, 8.48728245e-04, 8.24015772e-04,\n",
       "       7.90853275e-04, 7.84343404e-04, 7.71000723e-04, 7.51693564e-04,\n",
       "       7.36501349e-04, 7.17111912e-04, 6.80986289e-04, 6.55838420e-04,\n",
       "       6.40588988e-04, 6.24117210e-04, 6.17575653e-04, 6.16769241e-04,\n",
       "       6.15644621e-04, 5.99151688e-04, 5.83194071e-04, 5.77582491e-04,\n",
       "       5.62736721e-04, 5.58026250e-04, 5.37951734e-04, 5.20610151e-04,\n",
       "       5.19486282e-04, 5.02617749e-04, 4.78966885e-04, 4.69300768e-04,\n",
       "       4.67085969e-04, 4.58610146e-04, 4.47859555e-04, 4.31806265e-04,\n",
       "       4.30106884e-04, 4.21987159e-04, 4.14349747e-04, 4.13310529e-04,\n",
       "       4.07323377e-04, 3.98736449e-04, 3.77470742e-04, 3.71128561e-04,\n",
       "       3.69385536e-04, 3.61066332e-04, 3.48194001e-04, 3.36997053e-04,\n",
       "       3.35222358e-04, 3.32945692e-04, 3.19848049e-04, 3.09951262e-04,\n",
       "       3.07077999e-04, 2.99927800e-04, 2.88789219e-04, 2.87337049e-04,\n",
       "       2.86367438e-04, 2.76804526e-04, 2.68012126e-04, 2.64862436e-04,\n",
       "       2.62739019e-04, 2.60574548e-04, 2.54958917e-04, 2.52192290e-04,\n",
       "       2.47569237e-04, 2.39039048e-04, 2.34834467e-04, 2.32610852e-04,\n",
       "       2.29493378e-04, 2.26054219e-04, 2.21056179e-04, 2.16054851e-04,\n",
       "       2.10963808e-04, 2.02491505e-04, 1.96997008e-04, 1.95799136e-04,\n",
       "       1.94196451e-04, 1.85894891e-04, 1.84741749e-04, 1.82974920e-04,\n",
       "       1.80073647e-04, 1.78906139e-04, 1.75630032e-04, 1.72235970e-04,\n",
       "       1.67084378e-04, 1.64835768e-04, 1.62808835e-04, 1.60730288e-04,\n",
       "       1.54776966e-04, 1.53008516e-04, 1.50913623e-04, 1.48824385e-04,\n",
       "       1.44855924e-04, 1.39717681e-04, 1.36239810e-04, 1.35232868e-04,\n",
       "       1.31017298e-04, 1.29350039e-04, 1.27913396e-04, 1.26926231e-04,\n",
       "       1.26447118e-04, 1.22616634e-04, 1.20641834e-04, 1.18733833e-04,\n",
       "       1.14531909e-04, 1.13747277e-04, 1.12849479e-04, 1.09879906e-04,\n",
       "       1.07506848e-04, 1.05185108e-04, 1.03397739e-04, 1.00913918e-04,\n",
       "       9.87371042e-05, 9.77188263e-05, 9.59104201e-05, 9.34436520e-05,\n",
       "       9.10357469e-05, 9.00085456e-05, 8.94188019e-05, 8.80124235e-05,\n",
       "       8.54901745e-05, 8.40135046e-05, 8.37280702e-05, 8.22490190e-05,\n",
       "       7.91447056e-05, 7.75582243e-05, 7.72444601e-05, 7.59878837e-05,\n",
       "       7.51712190e-05, 7.42673447e-05, 7.28994621e-05, 7.14145514e-05,\n",
       "       6.90568366e-05, 6.89262671e-05, 6.75659003e-05, 6.54087250e-05,\n",
       "       6.42006994e-05, 6.22456903e-05, 6.20280782e-05, 6.13389446e-05,\n",
       "       5.97001938e-05, 5.92521855e-05, 5.83083010e-05, 5.73947976e-05,\n",
       "       5.65116515e-05, 5.44596871e-05, 5.40492614e-05, 5.38765069e-05,\n",
       "       5.25846141e-05, 5.19794998e-05, 5.11163028e-05, 4.94149747e-05,\n",
       "       4.84599447e-05, 4.75389763e-05, 4.69001475e-05, 4.65804177e-05,\n",
       "       4.54310249e-05, 4.43687477e-05, 4.37301855e-05, 4.25240603e-05,\n",
       "       4.19815607e-05, 4.15826591e-05, 4.12760490e-05, 4.03592183e-05,\n",
       "       3.98482641e-05, 3.91115197e-05, 3.75513401e-05, 3.70919085e-05,\n",
       "       3.70173925e-05, 3.61924155e-05, 3.57850947e-05, 3.50651974e-05,\n",
       "       3.41399074e-05, 3.38658483e-05, 3.26203362e-05, 3.23657173e-05,\n",
       "       3.23359158e-05, 3.17291572e-05, 3.14898131e-05, 3.06408293e-05,\n",
       "       2.97013808e-05, 2.93100607e-05, 2.91985325e-05, 2.89007146e-05,\n",
       "       2.80356928e-05, 2.70712726e-05, 2.69490300e-05, 2.66685101e-05,\n",
       "       2.59323600e-05, 2.56082372e-05, 2.49323830e-05, 2.45737493e-05,\n",
       "       2.41584625e-05, 2.38135995e-05, 2.37327434e-05, 2.32685856e-05,\n",
       "       2.27913026e-05, 2.25887238e-05, 2.19662507e-05, 2.15849569e-05,\n",
       "       2.10914953e-05, 2.07689672e-05, 2.05182676e-05, 2.02092513e-05,\n",
       "       2.00004548e-05, 1.94702993e-05, 1.92839568e-05, 1.89603627e-05,\n",
       "       1.87818726e-05, 1.86867253e-05, 1.82778348e-05, 1.77231405e-05,\n",
       "       1.74889145e-05, 1.72062219e-05, 1.69624718e-05, 1.65739099e-05,\n",
       "       1.61934718e-05, 1.59927666e-05, 1.57835093e-05, 1.54882444e-05,\n",
       "       1.51545125e-05, 1.48742460e-05, 1.47348974e-05, 1.45797398e-05,\n",
       "       1.43250671e-05, 1.40269301e-05, 1.37421451e-05, 1.35818741e-05,\n",
       "       1.33739517e-05, 1.30511479e-05, 1.28699885e-05, 1.26092302e-05,\n",
       "       1.23898168e-05, 1.22173646e-05, 1.21232757e-05, 1.18439274e-05,\n",
       "       1.15305685e-05, 1.12598086e-05, 1.11822628e-05, 1.11146252e-05,\n",
       "       1.08618733e-05, 1.06193347e-05, 1.03577506e-05, 1.03004011e-05,\n",
       "       1.00211158e-05, 9.74607708e-06, 9.67780569e-06, 9.56455420e-06,\n",
       "       9.40929805e-06, 9.28983267e-06, 9.01984465e-06, 8.96318160e-06,\n",
       "       8.89670057e-06, 8.69758532e-06, 8.53396522e-06, 8.29305142e-06,\n",
       "       8.12051074e-06, 7.99099903e-06, 7.85846445e-06, 7.72736875e-06,\n",
       "       7.53272499e-06, 7.34169936e-06, 7.26262896e-06, 7.22611006e-06,\n",
       "       7.09350680e-06, 7.03735369e-06, 6.91481744e-06, 6.76789040e-06,\n",
       "       6.61552378e-06, 6.43248402e-06, 6.35285698e-06, 6.21186913e-06,\n",
       "       6.07190302e-06, 6.03525138e-06, 5.94930850e-06, 5.86531285e-06,\n",
       "       5.82042095e-06, 5.73661276e-06, 5.64705751e-06, 5.50915959e-06,\n",
       "       5.37151589e-06, 5.31739595e-06, 5.15601503e-06, 5.04997063e-06,\n",
       "       4.95496118e-06, 4.88063137e-06, 4.80978285e-06, 4.77307833e-06,\n",
       "       4.73917104e-06, 4.69083199e-06, 4.58632606e-06, 4.47818352e-06,\n",
       "       4.34260566e-06, 4.29485494e-06, 4.28476056e-06, 4.16526683e-06,\n",
       "       4.10933984e-06, 3.95222197e-06, 3.93231958e-06, 3.87543679e-06,\n",
       "       3.85864805e-06, 3.75154634e-06, 3.69416477e-06, 3.66237564e-06,\n",
       "       3.60518010e-06, 3.52231704e-06, 3.46286599e-06, 3.39746355e-06,\n",
       "       3.33202600e-06, 3.24808747e-06, 3.19531573e-06, 3.13713402e-06,\n",
       "       3.08737166e-06, 3.03790343e-06, 3.02879595e-06, 3.00085570e-06,\n",
       "       2.90090608e-06, 2.82080895e-06, 2.77598274e-06, 2.72012223e-06,\n",
       "       2.68321493e-06, 2.61884411e-06, 2.56639371e-06, 2.54938113e-06,\n",
       "       2.51736796e-06, 2.47374040e-06, 2.43753115e-06, 2.41092453e-06,\n",
       "       2.33920698e-06, 2.29426890e-06, 2.26273729e-06, 2.23332710e-06,\n",
       "       2.13577944e-06, 2.10912919e-06, 2.05057067e-06, 2.02776976e-06,\n",
       "       2.02264113e-06, 1.97735510e-06, 1.94959985e-06, 1.90288007e-06,\n",
       "       1.86911289e-06, 1.85750014e-06, 1.76780898e-06, 1.73877520e-06,\n",
       "       1.71222192e-06, 1.66963819e-06, 1.66471613e-06, 1.62920181e-06,\n",
       "       1.59942427e-06, 1.54659707e-06, 1.53449275e-06, 1.47882784e-06,\n",
       "       1.45858976e-06, 1.45187128e-06, 1.42016176e-06, 1.37012444e-06,\n",
       "       1.36066751e-06, 1.31307533e-06, 1.28911587e-06, 1.27052860e-06,\n",
       "       1.26207270e-06, 1.22216948e-06, 1.15915353e-06, 1.14761553e-06,\n",
       "       1.12759490e-06, 1.06937455e-06, 1.06689972e-06, 1.04543347e-06,\n",
       "       1.01689914e-06, 1.00555380e-06, 9.89473937e-07, 9.88955060e-07,\n",
       "       9.64888196e-07, 9.18630397e-07, 8.97057720e-07, 8.93442415e-07,\n",
       "       8.26586302e-07, 8.16184138e-07, 7.97426419e-07, 7.73985578e-07,\n",
       "       7.66663595e-07, 7.57128512e-07, 7.49169702e-07, 7.16818444e-07,\n",
       "       6.95673695e-07, 6.94565736e-07, 6.43365149e-07, 6.35066795e-07,\n",
       "       6.27441983e-07, 5.77861574e-07, 5.61271140e-07, 5.51202330e-07,\n",
       "       5.41586225e-07, 5.30861123e-07, 5.27817906e-07, 4.85818864e-07,\n",
       "       4.79713627e-07, 4.59401818e-07, 4.36861108e-07, 4.36208152e-07,\n",
       "       4.26018657e-07, 3.98510652e-07, 3.78716682e-07, 3.69100153e-07,\n",
       "       3.64617369e-07, 3.62069716e-07, 3.30313020e-07, 3.28841040e-07,\n",
       "       2.97846723e-07, 2.91798461e-07, 2.69012102e-07, 2.53459784e-07,\n",
       "       2.49791378e-07, 2.38471119e-07, 2.28432146e-07, 2.25165732e-07,\n",
       "       2.22265100e-07, 2.15216326e-07, 2.04128627e-07, 1.93620779e-07,\n",
       "       1.82556039e-07, 1.74958265e-07, 1.60326694e-07, 1.54333280e-07,\n",
       "       1.50157416e-07, 1.38959681e-07, 1.35074486e-07, 1.28829384e-07,\n",
       "       1.14700637e-07, 1.12801064e-07, 1.07440936e-07, 9.89147270e-08,\n",
       "       9.11085690e-08, 7.73215297e-08, 7.53216336e-08, 6.28785764e-08,\n",
       "       5.09100313e-08, 4.96619795e-08, 2.77616326e-08, 1.00684048e-16])"
      ]
     },
     "execution_count": 15,
     "metadata": {},
     "output_type": "execute_result"
    }
   ],
   "source": [
    "b/np.sqrt(m-1)"
   ]
  },
  {
   "cell_type": "code",
   "execution_count": 16,
   "metadata": {},
   "outputs": [
    {
     "data": {
      "text/plain": [
       "((600, 600), (600, 98818))"
      ]
     },
     "execution_count": 16,
     "metadata": {},
     "output_type": "execute_result"
    }
   ],
   "source": [
    "B = np.diag(b/np.sqrt(m-1))\n",
    "B.shape, CT.shape"
   ]
  },
  {
   "cell_type": "code",
   "execution_count": 17,
   "metadata": {},
   "outputs": [],
   "source": [
    "BCT = np.matmul(B, CT)"
   ]
  },
  {
   "cell_type": "code",
   "execution_count": 18,
   "metadata": {},
   "outputs": [],
   "source": [
    "var_vec = b**2/(m-1)"
   ]
  },
  {
   "cell_type": "code",
   "execution_count": 19,
   "metadata": {},
   "outputs": [
    {
     "name": "stdout",
     "output_type": "stream",
     "text": [
      "Total vairance captured by first 75 eigenvalues: 99.00893075992475\n"
     ]
    }
   ],
   "source": [
    "n_eigval = 75\n",
    "\n",
    "p1 = 100*np.sum(var_vec[:n_eigval])/(np.sum(var_vec))\n",
    "\n",
    "print(f'Total vairance captured by first {n_eigval} eigenvalues: {p1}')"
   ]
  },
  {
   "cell_type": "code",
   "execution_count": 20,
   "metadata": {},
   "outputs": [
    {
     "name": "stdout",
     "output_type": "stream",
     "text": [
      "Total vairance captured by first 32 eigenvalues: 90.02295062738378\n"
     ]
    }
   ],
   "source": [
    "n_eigval = 32\n",
    "\n",
    "p1 = 100*np.sum(var_vec[:n_eigval])/(np.sum(var_vec))\n",
    "\n",
    "print(f'Total vairance captured by first {n_eigval} eigenvalues: {p1}')"
   ]
  },
  {
   "cell_type": "code",
   "execution_count": 21,
   "metadata": {},
   "outputs": [
    {
     "name": "stdout",
     "output_type": "stream",
     "text": [
      "Total vairance captured by first 14 eigenvalues: 69.86636951448999\n"
     ]
    }
   ],
   "source": [
    "n_eigval = 14\n",
    "\n",
    "p1 = 100*np.sum(var_vec[:n_eigval])/(np.sum(var_vec))\n",
    "\n",
    "print(f'Total vairance captured by first {n_eigval} eigenvalues: {p1}')"
   ]
  },
  {
   "cell_type": "code",
   "execution_count": 22,
   "metadata": {},
   "outputs": [
    {
     "name": "stdout",
     "output_type": "stream",
     "text": [
      "Total vairance captured by first 7 eigenvalues: 49.99817917065948\n"
     ]
    }
   ],
   "source": [
    "n_eigval = 7\n",
    "\n",
    "p1 = 100*np.sum(var_vec[:n_eigval])/(np.sum(var_vec))\n",
    "\n",
    "print(f'Total vairance captured by first {n_eigval} eigenvalues: {p1}')"
   ]
  },
  {
   "cell_type": "code",
   "execution_count": 33,
   "metadata": {},
   "outputs": [
    {
     "data": {
      "image/png": "[encoded data removed]",
      "text/plain": [
       "<Figure size 576x432 with 1 Axes>"
      ]
     },
     "metadata": {
      "needs_background": "light"
     },
     "output_type": "display_data"
    }
   ],
   "source": [
    "fig, ax = plt.subplots(figsize=(8,6))\n",
    "# ax.plot(6,var_vec[6], 'bo', ms=5, label=r'$n_{\\xi} \\equiv 50 \\%$')\n",
    "ax.plot(13,var_vec[13], 'go', ms=5, label=r'$n_{\\xi} \\equiv 70 \\%$')\n",
    "ax.plot(31,var_vec[31], 'ro', ms=5, label=r'$n_{\\xi} \\equiv 90 \\%$')\n",
    "ax.plot(np.arange(var_vec.size),var_vec)\n",
    "ax.legend(loc = \"upper right\")\n",
    "ax.set_xlabel(r\"number of EOFs\")\n",
    "ax.set_ylabel(r\"normalized spectrum\")\n",
    "ax.annotate(f\"{14}\", (13, var_vec[13]), fontsize= 15, textcoords=\"offset points\", xytext=(10,5), ha= 'center')\n",
    "ax.annotate(f\"{32}\", (31, var_vec[31]), fontsize= 15, textcoords=\"offset points\", xytext=(10,5), ha= 'center')\n",
    "plt.savefig('./plots/64x64_normalised_spectrum.pdf', bbox_inches='tight')"
   ]
  },
  {
   "cell_type": "code",
   "execution_count": 25,
   "metadata": {},
   "outputs": [
    {
     "data": {
      "text/plain": [
       "((600, 98818), (600, 49409, 2))"
      ]
     },
     "execution_count": 25,
     "metadata": {},
     "output_type": "execute_result"
    }
   ],
   "source": [
    "combined_vec = BCT\n",
    "detached_vec = np.zeros((combined_vec.shape[0],int(combined_vec.shape[1]/2),2))\n",
    "for i in range(combined_vec.shape[0]):\n",
    "    detached_vec[i,:,0] = combined_vec[i,:int(combined_vec.shape[1]/2)]\n",
    "    detached_vec[i,:,1] = combined_vec[i,int(combined_vec.shape[1]/2):]\n",
    "    \n",
    "combined_vec.shape, detached_vec.shape"
   ]
  },
  {
   "cell_type": "code",
   "execution_count": 26,
   "metadata": {},
   "outputs": [],
   "source": [
    "xi_mat = detached_vec"
   ]
  },
  {
   "cell_type": "code",
   "execution_count": 27,
   "metadata": {},
   "outputs": [
    {
     "data": {
      "text/plain": [
       "<matplotlib.legend.Legend at 0x7390e4dbe830>"
      ]
     },
     "execution_count": 27,
     "metadata": {},
     "output_type": "execute_result"
    },
    {
     "data": {
      "image/png": "[encoded data removed]",
      "text/plain": [
       "<Figure size 432x288 with 1 Axes>"
      ]
     },
     "metadata": {
      "needs_background": "light"
     },
     "output_type": "display_data"
    }
   ],
   "source": [
    "plt.plot(xi_mat[0,:,0], label='1st x eigenvec'), plt.plot(xi_mat[31,:,0], label='32nd x eigenvec')\n",
    "plt.legend()"
   ]
  },
  {
   "cell_type": "code",
   "execution_count": 28,
   "metadata": {},
   "outputs": [
    {
     "data": {
      "text/plain": [
       "<matplotlib.legend.Legend at 0x7390e4922a70>"
      ]
     },
     "execution_count": 28,
     "metadata": {},
     "output_type": "execute_result"
    },
    {
     "data": {
      "image/png": "[encoded data removed]",
      "text/plain": [
       "<Figure size 432x288 with 1 Axes>"
      ]
     },
     "metadata": {
      "needs_background": "light"
     },
     "output_type": "display_data"
    }
   ],
   "source": [
    "plt.plot(xi_mat[0,:,1], label='1st y eigenvec'), plt.plot(xi_mat[31,:,1], label='32nd y eigenvec')\n",
    "plt.legend()"
   ]
  },
  {
   "cell_type": "code",
   "execution_count": 86,
   "metadata": {},
   "outputs": [
    {
     "data": {
      "text/plain": [
       "(75, 49409, 2)"
      ]
     },
     "execution_count": 86,
     "metadata": {},
     "output_type": "execute_result"
    }
   ],
   "source": [
    "eig_vec = xi_mat[:75,:,:]\n",
    "eig_vec.shape"
   ]
  },
  {
   "cell_type": "code",
   "execution_count": 87,
   "metadata": {},
   "outputs": [
    {
     "data": {
      "text/plain": [
       "(49409, 2)"
      ]
     },
     "execution_count": 87,
     "metadata": {},
     "output_type": "execute_result"
    }
   ],
   "source": [
    "eig_vec[0,:].shape"
   ]
  },
  {
   "cell_type": "code",
   "execution_count": 88,
   "metadata": {},
   "outputs": [],
   "source": [
    "data_file = './calculated_xi_vectors/xi_matrix_75_eigvec_c_1_by_64_decor_t_1_Dt_t=50_to_t=110.npz'\n",
    "\n",
    "np.savez(data_file, xi_mat = eig_vec)"
   ]
  }
 ],
 "metadata": {
  "kernelspec": {
   "display_name": "Python 3",
   "language": "python",
   "name": "python3"
  },
  "language_info": {
   "codemirror_mode": {
    "name": "ipython",
    "version": 3
   },
   "file_extension": ".py",
   "mimetype": "text/x-python",
   "name": "python",
   "nbconvert_exporter": "python",
   "pygments_lexer": "ipython3",
   "version": "3.10.12"
  }
 },
 "nbformat": 4,
 "nbformat_minor": 2
}
