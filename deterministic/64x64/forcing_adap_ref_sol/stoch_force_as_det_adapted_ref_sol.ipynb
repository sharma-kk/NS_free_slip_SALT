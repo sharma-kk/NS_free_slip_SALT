{
 "cells": [
  {
   "cell_type": "code",
   "execution_count": 187,
   "metadata": {},
   "outputs": [],
   "source": [
    "import numpy as np\n",
    "import matplotlib.pyplot as plt"
   ]
  },
  {
   "cell_type": "code",
   "execution_count": 188,
   "metadata": {},
   "outputs": [],
   "source": [
    "data1 = np.load('../xi_calculation_visualization/data_for_xi_calculation/dX_data_t=50_to_t=100_grid_64_c_1by64.npz')"
   ]
  },
  {
   "cell_type": "code",
   "execution_count": 189,
   "metadata": {},
   "outputs": [
    {
     "data": {
      "text/plain": [
       "['dX_x', 'dX_y']"
      ]
     },
     "execution_count": 189,
     "metadata": {},
     "output_type": "execute_result"
    }
   ],
   "source": [
    "data1.files"
   ]
  },
  {
   "cell_type": "code",
   "execution_count": 190,
   "metadata": {},
   "outputs": [],
   "source": [
    "# combining the data\n",
    "dX1 = data1['dX_x']\n",
    "dX2 = data1['dX_y']"
   ]
  },
  {
   "cell_type": "code",
   "execution_count": 191,
   "metadata": {},
   "outputs": [
    {
     "data": {
      "text/plain": [
       "((500, 49409), (500, 49409))"
      ]
     },
     "execution_count": 191,
     "metadata": {},
     "output_type": "execute_result"
    }
   ],
   "source": [
    "dX1.shape, dX2.shape # the data is for 500 time-steps"
   ]
  },
  {
   "cell_type": "code",
   "execution_count": 192,
   "metadata": {},
   "outputs": [
    {
     "data": {
      "text/plain": [
       "(500, 98818)"
      ]
     },
     "execution_count": 192,
     "metadata": {},
     "output_type": "execute_result"
    }
   ],
   "source": [
    "dX = np.concatenate((dX1, dX2), axis=1)\n",
    "dX.shape"
   ]
  },
  {
   "cell_type": "code",
   "execution_count": 193,
   "metadata": {},
   "outputs": [],
   "source": [
    "from numpy import linalg as LA\n",
    "from scipy import signal"
   ]
  },
  {
   "cell_type": "code",
   "execution_count": 194,
   "metadata": {},
   "outputs": [],
   "source": [
    "Dt_c = 0.1 # time-step size for 64x64 grid\n",
    "scaled_dX = dX*np.sqrt(Dt_c)"
   ]
  },
  {
   "cell_type": "code",
   "execution_count": 195,
   "metadata": {},
   "outputs": [
    {
     "data": {
      "text/plain": [
       "[<matplotlib.lines.Line2D at 0x7da22f669090>]"
      ]
     },
     "execution_count": 195,
     "metadata": {},
     "output_type": "execute_result"
    },
    {
     "data": {
      "image/png": "[encoded data removed]",
      "text/plain": [
       "<Figure size 432x288 with 1 Axes>"
      ]
     },
     "metadata": {
      "needs_background": "light"
     },
     "output_type": "display_data"
    }
   ],
   "source": [
    "xi_0 = np.mean(scaled_dX, axis=0)\n",
    "plt.plot(xi_0)"
   ]
  },
  {
   "cell_type": "code",
   "execution_count": 196,
   "metadata": {},
   "outputs": [
    {
     "data": {
      "text/plain": [
       "(1, 98818)"
      ]
     },
     "execution_count": 196,
     "metadata": {},
     "output_type": "execute_result"
    }
   ],
   "source": [
    "xi_0 = np.reshape(xi_0, (1, -1))\n",
    "xi_0.shape"
   ]
  },
  {
   "cell_type": "code",
   "execution_count": 197,
   "metadata": {},
   "outputs": [
    {
     "data": {
      "text/plain": [
       "(500, 98818)"
      ]
     },
     "execution_count": 197,
     "metadata": {},
     "output_type": "execute_result"
    }
   ],
   "source": [
    "F = signal.detrend(scaled_dX, axis=0, type='constant')\n",
    "F.shape"
   ]
  },
  {
   "cell_type": "code",
   "execution_count": 198,
   "metadata": {},
   "outputs": [],
   "source": [
    "A, b, CT = LA.svd(F, full_matrices=False)"
   ]
  },
  {
   "cell_type": "code",
   "execution_count": 199,
   "metadata": {},
   "outputs": [
    {
     "name": "stdout",
     "output_type": "stream",
     "text": [
      "[2.74147161e+00 2.06767840e+00 1.99334413e+00 1.89111375e+00\n",
      " 1.67775837e+00 1.53692665e+00 1.42943983e+00 1.38431673e+00\n",
      " 1.32069838e+00 1.23809165e+00 1.11063051e+00 1.10487942e+00\n",
      " 1.08456857e+00 1.00949823e+00 9.42633940e-01 9.20842101e-01\n",
      " 8.76133924e-01 8.38209337e-01 8.34782622e-01 8.09820389e-01\n",
      " 7.90359755e-01 7.35794078e-01 7.16252751e-01 6.84696038e-01\n",
      " 6.43958002e-01 6.10321671e-01 5.88524337e-01 5.82486900e-01\n",
      " 5.55227193e-01 5.33084516e-01 5.23385572e-01 4.93153431e-01\n",
      " 4.82887993e-01 4.69717548e-01 4.53073334e-01 4.48246834e-01\n",
      " 4.42289010e-01 4.01300807e-01 3.81784386e-01 3.59471753e-01\n",
      " 3.52738796e-01 3.44248057e-01 3.36372475e-01 3.33058276e-01\n",
      " 3.07567582e-01 2.98430902e-01 2.94789342e-01 2.75747021e-01\n",
      " 2.63159182e-01 2.62250199e-01 2.62216281e-01 2.57179757e-01\n",
      " 2.40719282e-01 2.37745758e-01 2.28714973e-01 2.16974071e-01\n",
      " 2.11973068e-01 2.03215483e-01 2.00723765e-01 1.90816016e-01\n",
      " 1.76099450e-01 1.74354646e-01 1.70213875e-01 1.66968832e-01\n",
      " 1.61881428e-01 1.58650016e-01 1.52258411e-01 1.42174626e-01\n",
      " 1.40584951e-01 1.37260921e-01 1.30844599e-01 1.28190301e-01\n",
      " 1.26210298e-01 1.22930524e-01 1.17934129e-01 1.14816013e-01\n",
      " 1.08416415e-01 1.05549360e-01 1.04100692e-01 9.94441714e-02\n",
      " 9.76832432e-02 9.57970045e-02 9.50227330e-02 9.18693269e-02\n",
      " 8.87326160e-02 8.39058621e-02 8.13180077e-02 7.89495609e-02\n",
      " 7.75176559e-02 7.67437805e-02 7.58399461e-02 7.49027557e-02\n",
      " 7.34390041e-02 7.03920466e-02 7.02399742e-02 6.90605376e-02\n",
      " 6.54034524e-02 6.17550717e-02 6.02777431e-02 5.94120318e-02\n",
      " 5.69412870e-02 5.54050252e-02 5.49312136e-02 5.35879470e-02\n",
      " 5.09990295e-02 4.88874935e-02 4.82953300e-02 4.72242628e-02\n",
      " 4.58671322e-02 4.49187813e-02 4.32228554e-02 4.28589215e-02\n",
      " 4.19940544e-02 4.12098826e-02 4.03421628e-02 3.93631486e-02\n",
      " 3.80853817e-02 3.66056692e-02 3.57655721e-02 3.47318450e-02\n",
      " 3.27427689e-02 3.13783209e-02 3.13432100e-02 3.07112186e-02\n",
      " 3.05245476e-02 2.97213722e-02 2.79462369e-02 2.77251606e-02\n",
      " 2.67697604e-02 2.57788155e-02 2.56819481e-02 2.52630925e-02\n",
      " 2.45228541e-02 2.35593999e-02 2.30138098e-02 2.21879503e-02\n",
      " 2.19654671e-02 2.16040324e-02 2.13031175e-02 2.08110619e-02\n",
      " 1.98929644e-02 1.92917997e-02 1.91041085e-02 1.88441931e-02\n",
      " 1.81843930e-02 1.70567968e-02 1.61612612e-02 1.56953740e-02\n",
      " 1.52484919e-02 1.51565423e-02 1.51443703e-02 1.49027824e-02\n",
      " 1.45029577e-02 1.39708762e-02 1.38167412e-02 1.35467399e-02\n",
      " 1.27613574e-02 1.27543740e-02 1.21869790e-02 1.16564315e-02\n",
      " 1.15476046e-02 1.14365136e-02 1.08884968e-02 1.06247120e-02\n",
      " 1.05804616e-02 1.04455607e-02 1.01585938e-02 1.01240543e-02\n",
      " 9.68777753e-03 9.20305948e-03 9.08337806e-03 8.86433035e-03\n",
      " 8.59122913e-03 8.24762969e-03 8.21052189e-03 8.02855603e-03\n",
      " 7.58615385e-03 7.51446709e-03 7.44390549e-03 7.06737097e-03\n",
      " 7.05571474e-03 6.92073356e-03 6.65502319e-03 6.50849568e-03\n",
      " 6.47780405e-03 6.40391267e-03 6.21799152e-03 6.19136535e-03\n",
      " 5.92925361e-03 5.75023411e-03 5.71931880e-03 5.56301927e-03\n",
      " 5.45032303e-03 5.41008241e-03 5.22423498e-03 4.94908516e-03\n",
      " 4.81163920e-03 4.79823307e-03 4.56209106e-03 4.53054801e-03\n",
      " 4.50864362e-03 4.40109080e-03 4.33749617e-03 4.26269655e-03\n",
      " 4.19425365e-03 4.05240779e-03 3.97497198e-03 3.90976625e-03\n",
      " 3.78663047e-03 3.74124121e-03 3.71309735e-03 3.60207503e-03\n",
      " 3.38009762e-03 3.34724311e-03 3.32700825e-03 3.16947371e-03\n",
      " 3.13421805e-03 3.12413981e-03 3.08998426e-03 3.01310799e-03\n",
      " 2.92707507e-03 2.82993126e-03 2.78583712e-03 2.78373764e-03\n",
      " 2.68206719e-03 2.63050677e-03 2.57693872e-03 2.50134439e-03\n",
      " 2.42585917e-03 2.39668926e-03 2.37830358e-03 2.27770968e-03\n",
      " 2.20805241e-03 2.19547610e-03 2.14068318e-03 2.09017770e-03\n",
      " 2.07410412e-03 2.06002823e-03 1.99243950e-03 1.92540534e-03\n",
      " 1.89459051e-03 1.87448884e-03 1.84571985e-03 1.81914418e-03\n",
      " 1.77703787e-03 1.71312626e-03 1.69465619e-03 1.64380668e-03\n",
      " 1.59937671e-03 1.54403464e-03 1.52609321e-03 1.52192479e-03\n",
      " 1.47662466e-03 1.45532450e-03 1.43437160e-03 1.40517676e-03\n",
      " 1.35836458e-03 1.32586234e-03 1.32033436e-03 1.29967304e-03\n",
      " 1.27718528e-03 1.24747045e-03 1.19752785e-03 1.18545566e-03\n",
      " 1.15638669e-03 1.14065614e-03 1.12735593e-03 1.09200896e-03\n",
      " 1.05687978e-03 1.03097741e-03 1.02685801e-03 1.00519844e-03\n",
      " 9.85864521e-04 9.74752928e-04 9.39399045e-04 9.11809257e-04\n",
      " 9.10512420e-04 8.93558845e-04 8.77844872e-04 8.58030240e-04\n",
      " 8.46199000e-04 8.15405809e-04 7.92365469e-04 7.91180860e-04\n",
      " 7.82111340e-04 7.70000678e-04 7.49489481e-04 7.20267075e-04\n",
      " 7.14466374e-04 7.09885713e-04 6.90024623e-04 6.69164511e-04\n",
      " 6.59598701e-04 6.54129495e-04 6.29682158e-04 6.17324519e-04\n",
      " 6.06277668e-04 5.92587852e-04 5.84641797e-04 5.81802846e-04\n",
      " 5.62379444e-04 5.53633736e-04 5.42285786e-04 5.28142507e-04\n",
      " 5.16234759e-04 5.11953843e-04 5.00687824e-04 4.94005086e-04\n",
      " 4.86005387e-04 4.73813100e-04 4.63258917e-04 4.59345305e-04\n",
      " 4.51753008e-04 4.38857445e-04 4.29780270e-04 4.20878941e-04\n",
      " 4.14988405e-04 4.00748564e-04 3.97081058e-04 3.89745378e-04\n",
      " 3.83318814e-04 3.70884606e-04 3.64479825e-04 3.60796305e-04\n",
      " 3.56475317e-04 3.49032372e-04 3.41260824e-04 3.33846295e-04\n",
      " 3.27708798e-04 3.18667229e-04 3.10260084e-04 3.07100500e-04\n",
      " 3.00166924e-04 2.97333233e-04 2.89336416e-04 2.81345844e-04\n",
      " 2.74728415e-04 2.72205296e-04 2.68104530e-04 2.59627075e-04\n",
      " 2.54750292e-04 2.51056402e-04 2.41216274e-04 2.37663243e-04\n",
      " 2.35690075e-04 2.30241623e-04 2.26127659e-04 2.21024805e-04\n",
      " 2.19180881e-04 2.14507925e-04 2.10288467e-04 2.04003734e-04\n",
      " 1.98226907e-04 1.94250180e-04 1.92359204e-04 1.85731651e-04\n",
      " 1.80922545e-04 1.78194072e-04 1.76599449e-04 1.73594828e-04\n",
      " 1.71001957e-04 1.67134933e-04 1.61663783e-04 1.57503692e-04\n",
      " 1.54612780e-04 1.50455407e-04 1.48172274e-04 1.47300250e-04\n",
      " 1.43805082e-04 1.42284532e-04 1.40803699e-04 1.37514430e-04\n",
      " 1.33336158e-04 1.30556173e-04 1.26589204e-04 1.22631861e-04\n",
      " 1.21238128e-04 1.18693399e-04 1.16962545e-04 1.16227168e-04\n",
      " 1.15319306e-04 1.13173814e-04 1.08741071e-04 1.06175235e-04\n",
      " 1.04945970e-04 1.03270835e-04 1.01005584e-04 9.66198141e-05\n",
      " 9.62150057e-05 9.47357473e-05 9.34765624e-05 9.13017139e-05\n",
      " 8.97976118e-05 8.84142013e-05 8.62900459e-05 8.40449985e-05\n",
      " 8.22904686e-05 7.95511394e-05 7.83544958e-05 7.67789845e-05\n",
      " 7.56823761e-05 7.41849181e-05 7.37095247e-05 7.27378663e-05\n",
      " 6.95988331e-05 6.77677203e-05 6.65137685e-05 6.52631032e-05\n",
      " 6.31005371e-05 6.26656301e-05 6.19345619e-05 6.08691672e-05\n",
      " 5.97062803e-05 5.85757979e-05 5.64979523e-05 5.55058835e-05\n",
      " 5.47395602e-05 5.23313183e-05 5.07108244e-05 5.00953644e-05\n",
      " 4.94524491e-05 4.85766562e-05 4.81866152e-05 4.66702858e-05\n",
      " 4.55944872e-05 4.42865673e-05 4.29081477e-05 4.19033895e-05\n",
      " 4.08594371e-05 4.07193923e-05 3.98138129e-05 3.86892624e-05\n",
      " 3.77410900e-05 3.61288457e-05 3.56198584e-05 3.50609975e-05\n",
      " 3.48852083e-05 3.34799553e-05 3.21404720e-05 3.14160562e-05\n",
      " 3.09402624e-05 3.07694933e-05 2.84081151e-05 2.79935001e-05\n",
      " 2.76148610e-05 2.61699346e-05 2.56269506e-05 2.49032779e-05\n",
      " 2.44691809e-05 2.42202619e-05 2.41629427e-05 2.25054977e-05\n",
      " 2.19800891e-05 2.19105825e-05 2.00081089e-05 1.95741661e-05\n",
      " 1.88953330e-05 1.87304565e-05 1.83574103e-05 1.75716850e-05\n",
      " 1.70082715e-05 1.61636220e-05 1.57419623e-05 1.54088067e-05\n",
      " 1.37480413e-05 1.35067961e-05 1.32592415e-05 1.29978903e-05\n",
      " 1.19030884e-05 1.12034611e-05 1.11374475e-05 1.06916094e-05\n",
      " 1.04340919e-05 9.27444166e-06 9.03581201e-06 8.92775799e-06\n",
      " 8.08884719e-06 7.17021779e-06 7.11825312e-06 6.20921553e-06\n",
      " 5.83969368e-06 5.59106709e-06 5.44542160e-06 5.27271330e-06\n",
      " 4.47235344e-06 4.18586805e-06 3.91956181e-06 3.77958719e-06\n",
      " 3.15637019e-06 2.76166034e-06 2.63457598e-06 2.42191873e-06\n",
      " 2.23119247e-06 2.19841545e-06 1.84651077e-06 1.54039472e-06\n",
      " 1.24625266e-06 1.21576044e-06 6.79573392e-07 2.23379983e-15]\n"
     ]
    }
   ],
   "source": [
    "print(b) # variances of the EOFs "
   ]
  },
  {
   "cell_type": "code",
   "execution_count": 200,
   "metadata": {},
   "outputs": [],
   "source": [
    "B = np.diag(b) # matrix containing variances"
   ]
  },
  {
   "cell_type": "code",
   "execution_count": 201,
   "metadata": {},
   "outputs": [
    {
     "data": {
      "text/plain": [
       "((500, 500), (500, 500), (500, 98818))"
      ]
     },
     "execution_count": 201,
     "metadata": {},
     "output_type": "execute_result"
    }
   ],
   "source": [
    "A.shape, B.shape, CT.shape"
   ]
  },
  {
   "cell_type": "code",
   "execution_count": 202,
   "metadata": {},
   "outputs": [
    {
     "data": {
      "text/plain": [
       "(500, 500)"
      ]
     },
     "execution_count": 202,
     "metadata": {},
     "output_type": "execute_result"
    }
   ],
   "source": [
    "t_mat = np.matmul(A,B) # matrix containig time-series info\n",
    "t_mat.shape"
   ]
  },
  {
   "cell_type": "code",
   "execution_count": 203,
   "metadata": {},
   "outputs": [],
   "source": [
    "xi_mat = CT # this matrix contain the EOFs"
   ]
  },
  {
   "cell_type": "markdown",
   "metadata": {},
   "source": [
    "32 EOFs contain 90 percent of the total variance. Therefore we only extract this info from SVD of F"
   ]
  },
  {
   "cell_type": "code",
   "execution_count": 204,
   "metadata": {},
   "outputs": [],
   "source": [
    "n_EOFs = 32"
   ]
  },
  {
   "cell_type": "code",
   "execution_count": 205,
   "metadata": {},
   "outputs": [
    {
     "data": {
      "text/plain": [
       "((500, 32), (32, 98818), (500, 98818))"
      ]
     },
     "execution_count": 205,
     "metadata": {},
     "output_type": "execute_result"
    }
   ],
   "source": [
    "D = np.matmul(t_mat[:,:n_EOFs], xi_mat[:n_EOFs,:]) # info corresponding to 32 EOFs\n",
    "t_mat[:,:n_EOFs].shape, xi_mat[:n_EOFs,:].shape, D.shape"
   ]
  },
  {
   "cell_type": "code",
   "execution_count": 206,
   "metadata": {},
   "outputs": [
    {
     "data": {
      "text/plain": [
       "(500, 98818)"
      ]
     },
     "execution_count": 206,
     "metadata": {},
     "output_type": "execute_result"
    }
   ],
   "source": [
    "E = xi_0 + D # this should be approximately equal to matrix scaled_dX\n",
    "# E = D #  not including the mean has very small effect on the final matrix\n",
    "E.shape"
   ]
  },
  {
   "cell_type": "code",
   "execution_count": 207,
   "metadata": {},
   "outputs": [
    {
     "data": {
      "text/plain": [
       "<matplotlib.legend.Legend at 0x7da22f68fbe0>"
      ]
     },
     "execution_count": 207,
     "metadata": {},
     "output_type": "execute_result"
    },
    {
     "data": {
      "image/png": "[encoded data removed]",
      "text/plain": [
       "<Figure size 432x288 with 1 Axes>"
      ]
     },
     "metadata": {
      "needs_background": "light"
     },
     "output_type": "display_data"
    }
   ],
   "source": [
    "# rand_ele = int(np.random.uniform(0, 200))\n",
    "rand_ele = 0\n",
    "plt.plot(scaled_dX[rand_ele, :], label='a row of scaled_dX')\n",
    "plt.plot(E[rand_ele,:], label='recreated using SVD')\n",
    "plt.legend()"
   ]
  },
  {
   "cell_type": "code",
   "execution_count": 208,
   "metadata": {},
   "outputs": [
    {
     "data": {
      "text/plain": [
       "<matplotlib.legend.Legend at 0x7da22f6fb190>"
      ]
     },
     "execution_count": 208,
     "metadata": {},
     "output_type": "execute_result"
    },
    {
     "data": {
      "image/png": "[encoded data removed]",
      "text/plain": [
       "<Figure size 432x288 with 1 Axes>"
      ]
     },
     "metadata": {
      "needs_background": "light"
     },
     "output_type": "display_data"
    }
   ],
   "source": [
    "rand_ele = 300\n",
    "plt.plot(scaled_dX[rand_ele, :], label='a row of scaled_dX')\n",
    "plt.plot(E[rand_ele,:], label='recreated using SVD')\n",
    "plt.legend()"
   ]
  },
  {
   "cell_type": "code",
   "execution_count": 209,
   "metadata": {},
   "outputs": [
    {
     "data": {
      "text/plain": [
       "((500, 98818), (500, 49409, 2))"
      ]
     },
     "execution_count": 209,
     "metadata": {},
     "output_type": "execute_result"
    }
   ],
   "source": [
    "combined_vec = E\n",
    "detached_vec = np.zeros((combined_vec.shape[0],int(combined_vec.shape[1]/2),2))\n",
    "for i in range(combined_vec.shape[0]):\n",
    "    detached_vec[i,:,0] = combined_vec[i,:int(combined_vec.shape[1]/2)]\n",
    "    detached_vec[i,:,1] = combined_vec[i,int(combined_vec.shape[1]/2):]\n",
    "    \n",
    "combined_vec.shape, detached_vec.shape"
   ]
  },
  {
   "cell_type": "code",
   "execution_count": 215,
   "metadata": {},
   "outputs": [
    {
     "data": {
      "text/plain": [
       "(500, 49409, 2)"
      ]
     },
     "execution_count": 215,
     "metadata": {},
     "output_type": "execute_result"
    }
   ],
   "source": [
    "stoch_f_mat = detached_vec\n",
    "stoch_f_mat.shape"
   ]
  },
  {
   "cell_type": "code",
   "execution_count": 216,
   "metadata": {},
   "outputs": [
    {
     "data": {
      "text/plain": [
       "<matplotlib.legend.Legend at 0x7da2ebef2ef0>"
      ]
     },
     "execution_count": 216,
     "metadata": {},
     "output_type": "execute_result"
    },
    {
     "data": {
      "image/png": "[encoded data removed]",
      "text/plain": [
       "<Figure size 432x288 with 1 Axes>"
      ]
     },
     "metadata": {
      "needs_background": "light"
     },
     "output_type": "display_data"
    }
   ],
   "source": [
    "plt.plot(stoch_f_mat[0,:,0], label='stoch_fx_at_t0')\n",
    "plt.plot(stoch_f_mat[31,:,0], label='stoch_fx_at_t31')\n",
    "plt.legend()"
   ]
  },
  {
   "cell_type": "code",
   "execution_count": 217,
   "metadata": {},
   "outputs": [
    {
     "data": {
      "text/plain": [
       "<matplotlib.legend.Legend at 0x7da22f68f3d0>"
      ]
     },
     "execution_count": 217,
     "metadata": {},
     "output_type": "execute_result"
    },
    {
     "data": {
      "image/png": "[encoded data removed]",
      "text/plain": [
       "<Figure size 432x288 with 1 Axes>"
      ]
     },
     "metadata": {
      "needs_background": "light"
     },
     "output_type": "display_data"
    }
   ],
   "source": [
    "plt.plot(stoch_f_mat[0,:,1], label='stoch_fy_at_t0')\n",
    "plt.plot(stoch_f_mat[31,:,1], label='stoch_fy_at_t31')\n",
    "plt.legend()"
   ]
  },
  {
   "cell_type": "code",
   "execution_count": 218,
   "metadata": {},
   "outputs": [],
   "source": [
    "data_file = './forcing/stochastic_forcing_as_deterministic_t50_to_t100.npz'\n",
    "\n",
    "np.savez(data_file, stoch_f_mat = stoch_f_mat)"
   ]
  }
 ],
 "metadata": {
  "kernelspec": {
   "display_name": "Python 3",
   "language": "python",
   "name": "python3"
  },
  "language_info": {
   "codemirror_mode": {
    "name": "ipython",
    "version": 3
   },
   "file_extension": ".py",
   "mimetype": "text/x-python",
   "name": "python",
   "nbconvert_exporter": "python",
   "pygments_lexer": "ipython3",
   "version": "3.10.12"
  }
 },
 "nbformat": 4,
 "nbformat_minor": 2
}
